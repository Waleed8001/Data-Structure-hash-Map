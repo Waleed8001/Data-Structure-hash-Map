{
  "nbformat": 4,
  "nbformat_minor": 0,
  "metadata": {
    "colab": {
      "provenance": []
    },
    "kernelspec": {
      "name": "python3",
      "display_name": "Python 3"
    },
    "language_info": {
      "name": "python"
    }
  },
  "cells": [
    {
      "cell_type": "code",
      "execution_count": 2,
      "metadata": {
        "colab": {
          "base_uri": "https://localhost:8080/"
        },
        "id": "LAtQ_XuVrQ2h",
        "outputId": "af85d1e0-3c52-4895-e66f-d5ac1d1fe4fc"
      },
      "outputs": [
        {
          "output_type": "stream",
          "name": "stdout",
          "text": [
            "True\n"
          ]
        }
      ],
      "source": [
        "class hashtable:\n",
        "    def __init__(self):\n",
        "        self.MAX = 10\n",
        "        self.arr = [[] for i in range(self.MAX)]\n",
        "        self.count = 0\n",
        "\n",
        "    # For finding hash key\n",
        "\n",
        "    def hash_key(self, key):\n",
        "        sum = 0\n",
        "\n",
        "        for i in key:\n",
        "            sum += ord(i)\n",
        "\n",
        "        return sum % self.MAX\n",
        "\n",
        "    # for entering item in the list\n",
        "\n",
        "    def __setitem__(self, key, value):\n",
        "        h = self.hash_key(key)\n",
        "        found = False\n",
        "\n",
        "        for index, element in enumerate(self.arr[h]):\n",
        "            if len(element) == 2 and element[0] == key:\n",
        "                self.arr[h][index] = (key, value)\n",
        "                if element[0] == key and element[1] == value:\n",
        "                    self.count -= 1\n",
        "                    found = True\n",
        "\n",
        "        if not found:\n",
        "            self.count += 1\n",
        "            self.arr[h].append((key, value))\n",
        "\n",
        "\n",
        "# Main Function\n",
        "pattern = 'abba'\n",
        "s = 'dog cat cat dog'\n",
        "s2 = ''\n",
        "length = 1\n",
        "\n",
        "\n",
        "list1 = []\n",
        "list2 = []\n",
        "\n",
        "# Insert data of pattern in list1\n",
        "\n",
        "for i in pattern:\n",
        "    list1.append(i)\n",
        "\n",
        "# Insert data of s in list2\n",
        "\n",
        "for i in range(len(s)):\n",
        "    if s[i] == ' ':\n",
        "        list2.append(s2)\n",
        "        s2 = ''\n",
        "\n",
        "    elif len(s) == length:\n",
        "        list2.append(s2+s[i])\n",
        "\n",
        "    else:\n",
        "        s2 = s2 + s[i]\n",
        "\n",
        "    length += 1\n",
        "\n",
        "# Initialization of class\n",
        "\n",
        "mytable = hashtable()\n",
        "\n",
        "# Calling the class by sending the item in it\n",
        "\n",
        "for i in range(len(list1)):\n",
        "    mytable[list1[i]] = list2[i]\n",
        "\n",
        "# Print True of False based on the count variable\n",
        "\n",
        "if mytable.count == 0:\n",
        "    print(True)\n",
        "\n",
        "else:\n",
        "    print(False)\n"
      ]
    }
  ]
}